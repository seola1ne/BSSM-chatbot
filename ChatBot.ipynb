{
 "cells": [
  {
   "cell_type": "code",
   "execution_count": 1,
   "metadata": {},
   "outputs": [
    {
     "name": "stdout",
     "output_type": "stream",
     "text": [
      "Requirement already satisfied: pandas in c:\\users\\user\\appdata\\local\\programs\\python\\python310\\lib\\site-packages (1.5.2)\n",
      "Requirement already satisfied: python-dateutil>=2.8.1 in c:\\users\\user\\appdata\\local\\programs\\python\\python310\\lib\\site-packages (from pandas) (2.8.2)\n",
      "Requirement already satisfied: numpy>=1.21.0 in c:\\users\\user\\appdata\\local\\programs\\python\\python310\\lib\\site-packages (from pandas) (1.24.0)\n",
      "Requirement already satisfied: pytz>=2020.1 in c:\\users\\user\\appdata\\local\\programs\\python\\python310\\lib\\site-packages (from pandas) (2022.7)\n",
      "Requirement already satisfied: six>=1.5 in c:\\users\\user\\appdata\\local\\programs\\python\\python310\\lib\\site-packages (from python-dateutil>=2.8.1->pandas) (1.16.0)\n",
      "Requirement already satisfied: sentence_transformers in c:\\users\\user\\appdata\\local\\programs\\python\\python310\\lib\\site-packages (2.2.2)\n",
      "Requirement already satisfied: transformers<5.0.0,>=4.6.0 in c:\\users\\user\\appdata\\local\\programs\\python\\python310\\lib\\site-packages (from sentence_transformers) (4.25.1)\n",
      "Requirement already satisfied: tqdm in c:\\users\\user\\appdata\\local\\programs\\python\\python310\\lib\\site-packages (from sentence_transformers) (4.64.1)\n",
      "Requirement already satisfied: torch>=1.6.0 in c:\\users\\user\\appdata\\local\\programs\\python\\python310\\lib\\site-packages (from sentence_transformers) (1.13.1)\n",
      "Requirement already satisfied: torchvision in c:\\users\\user\\appdata\\local\\programs\\python\\python310\\lib\\site-packages (from sentence_transformers) (0.14.1)\n",
      "Requirement already satisfied: numpy in c:\\users\\user\\appdata\\local\\programs\\python\\python310\\lib\\site-packages (from sentence_transformers) (1.24.0)\n",
      "Requirement already satisfied: scikit-learn in c:\\users\\user\\appdata\\local\\programs\\python\\python310\\lib\\site-packages (from sentence_transformers) (1.2.0)\n",
      "Requirement already satisfied: scipy in c:\\users\\user\\appdata\\local\\programs\\python\\python310\\lib\\site-packages (from sentence_transformers) (1.9.3)\n",
      "Requirement already satisfied: nltk in c:\\users\\user\\appdata\\local\\programs\\python\\python310\\lib\\site-packages (from sentence_transformers) (3.8)\n",
      "Requirement already satisfied: sentencepiece in c:\\users\\user\\appdata\\local\\programs\\python\\python310\\lib\\site-packages (from sentence_transformers) (0.1.97)\n",
      "Requirement already satisfied: huggingface-hub>=0.4.0 in c:\\users\\user\\appdata\\local\\programs\\python\\python310\\lib\\site-packages (from sentence_transformers) (0.11.1)\n",
      "Requirement already satisfied: typing-extensions>=3.7.4.3 in c:\\users\\user\\appdata\\local\\programs\\python\\python310\\lib\\site-packages (from huggingface-hub>=0.4.0->sentence_transformers) (4.4.0)\n",
      "Requirement already satisfied: filelock in c:\\users\\user\\appdata\\local\\programs\\python\\python310\\lib\\site-packages (from huggingface-hub>=0.4.0->sentence_transformers) (3.8.2)\n",
      "Requirement already satisfied: requests in c:\\users\\user\\appdata\\local\\programs\\python\\python310\\lib\\site-packages (from huggingface-hub>=0.4.0->sentence_transformers) (2.28.1)\n",
      "Requirement already satisfied: pyyaml>=5.1 in c:\\users\\user\\appdata\\local\\programs\\python\\python310\\lib\\site-packages (from huggingface-hub>=0.4.0->sentence_transformers) (6.0)\n",
      "Requirement already satisfied: packaging>=20.9 in c:\\users\\user\\appdata\\local\\programs\\python\\python310\\lib\\site-packages (from huggingface-hub>=0.4.0->sentence_transformers) (22.0)\n",
      "Requirement already satisfied: tokenizers!=0.11.3,<0.14,>=0.11.1 in c:\\users\\user\\appdata\\local\\programs\\python\\python310\\lib\\site-packages (from transformers<5.0.0,>=4.6.0->sentence_transformers) (0.13.2)\n",
      "Requirement already satisfied: regex!=2019.12.17 in c:\\users\\user\\appdata\\local\\programs\\python\\python310\\lib\\site-packages (from transformers<5.0.0,>=4.6.0->sentence_transformers) (2022.10.31)\n",
      "Requirement already satisfied: colorama in c:\\users\\user\\appdata\\local\\programs\\python\\python310\\lib\\site-packages (from tqdm->sentence_transformers) (0.4.6)\n",
      "Requirement already satisfied: click in c:\\users\\user\\appdata\\local\\programs\\python\\python310\\lib\\site-packages (from nltk->sentence_transformers) (8.1.3)\n",
      "Requirement already satisfied: joblib in c:\\users\\user\\appdata\\local\\programs\\python\\python310\\lib\\site-packages (from nltk->sentence_transformers) (1.2.0)\n",
      "Requirement already satisfied: threadpoolctl>=2.0.0 in c:\\users\\user\\appdata\\local\\programs\\python\\python310\\lib\\site-packages (from scikit-learn->sentence_transformers) (3.1.0)\n",
      "Requirement already satisfied: pillow!=8.3.*,>=5.3.0 in c:\\users\\user\\appdata\\local\\programs\\python\\python310\\lib\\site-packages (from torchvision->sentence_transformers) (9.3.0)\n",
      "Requirement already satisfied: certifi>=2017.4.17 in c:\\users\\user\\appdata\\local\\programs\\python\\python310\\lib\\site-packages (from requests->huggingface-hub>=0.4.0->sentence_transformers) (2022.12.7)\n",
      "Requirement already satisfied: idna<4,>=2.5 in c:\\users\\user\\appdata\\local\\programs\\python\\python310\\lib\\site-packages (from requests->huggingface-hub>=0.4.0->sentence_transformers) (3.4)\n",
      "Requirement already satisfied: urllib3<1.27,>=1.21.1 in c:\\users\\user\\appdata\\local\\programs\\python\\python310\\lib\\site-packages (from requests->huggingface-hub>=0.4.0->sentence_transformers) (1.26.13)\n",
      "Requirement already satisfied: charset-normalizer<3,>=2 in c:\\users\\user\\appdata\\local\\programs\\python\\python310\\lib\\site-packages (from requests->huggingface-hub>=0.4.0->sentence_transformers) (2.1.1)\n",
      "Requirement already satisfied: sklearn in c:\\users\\user\\appdata\\local\\programs\\python\\python310\\lib\\site-packages (0.0.post1)\n"
     ]
    }
   ],
   "source": [
    "!pip install pandas\n",
    "!pip install sentence_transformers\n",
    "!pip install sklearn"
   ]
  },
  {
   "cell_type": "code",
   "execution_count": 2,
   "metadata": {},
   "outputs": [
    {
     "name": "stderr",
     "output_type": "stream",
     "text": [
      "C:\\Users\\user\\AppData\\Local\\Programs\\Python\\Python310\\lib\\site-packages\\tqdm\\auto.py:22: TqdmWarning: IProgress not found. Please update jupyter and ipywidgets. See https://ipywidgets.readthedocs.io/en/stable/user_install.html\n",
      "  from .autonotebook import tqdm as notebook_tqdm\n"
     ]
    }
   ],
   "source": [
    "import pandas as pd\n",
    "from sentence_transformers import SentenceTransformer\n",
    "from sklearn.metrics.pairwise import cosine_similarity # 챗봇의 정확도 계산"
   ]
  },
  {
   "cell_type": "code",
   "execution_count": 3,
   "metadata": {},
   "outputs": [
    {
     "name": "stdout",
     "output_type": "stream",
     "text": [
      "[[ 0.10478407 -0.19161403  0.03850418 ...  0.60394835  0.50577533\n",
      "  -0.736189  ]\n",
      " [ 0.10454009  0.19116943 -0.9161043  ... -0.16573702  0.20779425\n",
      "  -0.34834814]]\n"
     ]
    }
   ],
   "source": [
    "model = SentenceTransformer('jhgan/ko-sroberta-multitask')\n",
    "\n",
    "sentences = [\"학교가 어디인가요?\", \"저는 부산 소마고에 다니고 있습니다.\"]\n",
    "# 두 문장을 숫자로 임베딩\n",
    "embeddings = model.encode(sentences)\n",
    "\n",
    "print(embeddings)"
   ]
  },
  {
   "cell_type": "code",
   "execution_count": 4,
   "metadata": {},
   "outputs": [
    {
     "data": {
      "text/html": [
       "<div>\n",
       "<style scoped>\n",
       "    .dataframe tbody tr th:only-of-type {\n",
       "        vertical-align: middle;\n",
       "    }\n",
       "\n",
       "    .dataframe tbody tr th {\n",
       "        vertical-align: top;\n",
       "    }\n",
       "\n",
       "    .dataframe thead th {\n",
       "        text-align: right;\n",
       "    }\n",
       "</style>\n",
       "<table border=\"1\" class=\"dataframe\">\n",
       "  <thead>\n",
       "    <tr style=\"text-align: right;\">\n",
       "      <th></th>\n",
       "      <th>구분</th>\n",
       "      <th>유저</th>\n",
       "      <th>챗봇</th>\n",
       "      <th>embedding</th>\n",
       "      <th>distance</th>\n",
       "    </tr>\n",
       "  </thead>\n",
       "  <tbody>\n",
       "    <tr>\n",
       "      <th>0</th>\n",
       "      <td>입학홍보</td>\n",
       "      <td>부산소마고 페이스북</td>\n",
       "      <td>[ https://www.facebook.com/BusanSoftwareMeiste...</td>\n",
       "      <td>[-0.41640186, 0.079589315, -0.5161981, 0.37378...</td>\n",
       "      <td>0.595668</td>\n",
       "    </tr>\n",
       "    <tr>\n",
       "      <th>1</th>\n",
       "      <td>입학홍보</td>\n",
       "      <td>부산소프트웨어마이스터고 페북</td>\n",
       "      <td>[ https://www.facebook.com/BusanSoftwareMeiste...</td>\n",
       "      <td>NaN</td>\n",
       "      <td>NaN</td>\n",
       "    </tr>\n",
       "    <tr>\n",
       "      <th>2</th>\n",
       "      <td>입학홍보</td>\n",
       "      <td>소마고 페북</td>\n",
       "      <td>[ https://www.facebook.com/BusanSoftwareMeiste...</td>\n",
       "      <td>NaN</td>\n",
       "      <td>NaN</td>\n",
       "    </tr>\n",
       "    <tr>\n",
       "      <th>3</th>\n",
       "      <td>입학홍보</td>\n",
       "      <td>부산소마고 인스타그램</td>\n",
       "      <td>[ https://www.instagram.com/bssm.hs/ ] 입니다!</td>\n",
       "      <td>[-0.34022376, -0.339683, -0.53931576, 0.615103...</td>\n",
       "      <td>0.591826</td>\n",
       "    </tr>\n",
       "    <tr>\n",
       "      <th>4</th>\n",
       "      <td>입학홍보</td>\n",
       "      <td>부산소프트웨어마이스터고 인스타그램</td>\n",
       "      <td>[ https://www.instagram.com/bssm.hs/ ] 입니다!</td>\n",
       "      <td>NaN</td>\n",
       "      <td>NaN</td>\n",
       "    </tr>\n",
       "  </tbody>\n",
       "</table>\n",
       "</div>"
      ],
      "text/plain": [
       "     구분                  유저  \\\n",
       "0  입학홍보          부산소마고 페이스북   \n",
       "1  입학홍보     부산소프트웨어마이스터고 페북   \n",
       "2  입학홍보              소마고 페북   \n",
       "3  입학홍보         부산소마고 인스타그램   \n",
       "4  입학홍보  부산소프트웨어마이스터고 인스타그램   \n",
       "\n",
       "                                                  챗봇  \\\n",
       "0  [ https://www.facebook.com/BusanSoftwareMeiste...   \n",
       "1  [ https://www.facebook.com/BusanSoftwareMeiste...   \n",
       "2  [ https://www.facebook.com/BusanSoftwareMeiste...   \n",
       "3        [ https://www.instagram.com/bssm.hs/ ] 입니다!   \n",
       "4        [ https://www.instagram.com/bssm.hs/ ] 입니다!   \n",
       "\n",
       "                                           embedding  distance  \n",
       "0  [-0.41640186, 0.079589315, -0.5161981, 0.37378...  0.595668  \n",
       "1                                                NaN       NaN  \n",
       "2                                                NaN       NaN  \n",
       "3  [-0.34022376, -0.339683, -0.53931576, 0.615103...  0.591826  \n",
       "4                                                NaN       NaN  "
      ]
     },
     "execution_count": 4,
     "metadata": {},
     "output_type": "execute_result"
    }
   ],
   "source": [
    "# 데이터셋 로드\n",
    "df = pd.read_csv('Chatbot_data.csv')\n",
    "df.head()"
   ]
  },
  {
   "cell_type": "code",
   "execution_count": 5,
   "metadata": {},
   "outputs": [
    {
     "data": {
      "text/html": [
       "<div>\n",
       "<style scoped>\n",
       "    .dataframe tbody tr th:only-of-type {\n",
       "        vertical-align: middle;\n",
       "    }\n",
       "\n",
       "    .dataframe tbody tr th {\n",
       "        vertical-align: top;\n",
       "    }\n",
       "\n",
       "    .dataframe thead th {\n",
       "        text-align: right;\n",
       "    }\n",
       "</style>\n",
       "<table border=\"1\" class=\"dataframe\">\n",
       "  <thead>\n",
       "    <tr style=\"text-align: right;\">\n",
       "      <th></th>\n",
       "      <th>구분</th>\n",
       "      <th>유저</th>\n",
       "      <th>챗봇</th>\n",
       "      <th>embedding</th>\n",
       "      <th>distance</th>\n",
       "    </tr>\n",
       "  </thead>\n",
       "  <tbody>\n",
       "    <tr>\n",
       "      <th>0</th>\n",
       "      <td>입학홍보</td>\n",
       "      <td>부산소마고 페이스북</td>\n",
       "      <td>[ https://www.facebook.com/BusanSoftwareMeiste...</td>\n",
       "      <td>[-0.41640186, 0.079589315, -0.5161981, 0.37378...</td>\n",
       "      <td>0.595668</td>\n",
       "    </tr>\n",
       "    <tr>\n",
       "      <th>1</th>\n",
       "      <td>입학홍보</td>\n",
       "      <td>부산소프트웨어마이스터고 페북</td>\n",
       "      <td>[ https://www.facebook.com/BusanSoftwareMeiste...</td>\n",
       "      <td>[-0.07906039, -0.12451441, -0.408753, 0.720848...</td>\n",
       "      <td>NaN</td>\n",
       "    </tr>\n",
       "    <tr>\n",
       "      <th>2</th>\n",
       "      <td>입학홍보</td>\n",
       "      <td>소마고 페북</td>\n",
       "      <td>[ https://www.facebook.com/BusanSoftwareMeiste...</td>\n",
       "      <td>[0.11361439, -0.050491035, -0.04860738, 0.0593...</td>\n",
       "      <td>NaN</td>\n",
       "    </tr>\n",
       "    <tr>\n",
       "      <th>3</th>\n",
       "      <td>입학홍보</td>\n",
       "      <td>부산소마고 인스타그램</td>\n",
       "      <td>[ https://www.instagram.com/bssm.hs/ ] 입니다!</td>\n",
       "      <td>[-0.34022376, -0.339683, -0.53931576, 0.615103...</td>\n",
       "      <td>0.591826</td>\n",
       "    </tr>\n",
       "    <tr>\n",
       "      <th>4</th>\n",
       "      <td>입학홍보</td>\n",
       "      <td>부산소프트웨어마이스터고 인스타그램</td>\n",
       "      <td>[ https://www.instagram.com/bssm.hs/ ] 입니다!</td>\n",
       "      <td>[-0.19117956, -0.18577842, -0.4473932, 0.85997...</td>\n",
       "      <td>NaN</td>\n",
       "    </tr>\n",
       "  </tbody>\n",
       "</table>\n",
       "</div>"
      ],
      "text/plain": [
       "     구분                  유저  \\\n",
       "0  입학홍보          부산소마고 페이스북   \n",
       "1  입학홍보     부산소프트웨어마이스터고 페북   \n",
       "2  입학홍보              소마고 페북   \n",
       "3  입학홍보         부산소마고 인스타그램   \n",
       "4  입학홍보  부산소프트웨어마이스터고 인스타그램   \n",
       "\n",
       "                                                  챗봇  \\\n",
       "0  [ https://www.facebook.com/BusanSoftwareMeiste...   \n",
       "1  [ https://www.facebook.com/BusanSoftwareMeiste...   \n",
       "2  [ https://www.facebook.com/BusanSoftwareMeiste...   \n",
       "3        [ https://www.instagram.com/bssm.hs/ ] 입니다!   \n",
       "4        [ https://www.instagram.com/bssm.hs/ ] 입니다!   \n",
       "\n",
       "                                           embedding  distance  \n",
       "0  [-0.41640186, 0.079589315, -0.5161981, 0.37378...  0.595668  \n",
       "1  [-0.07906039, -0.12451441, -0.408753, 0.720848...       NaN  \n",
       "2  [0.11361439, -0.050491035, -0.04860738, 0.0593...       NaN  \n",
       "3  [-0.34022376, -0.339683, -0.53931576, 0.615103...  0.591826  \n",
       "4  [-0.19117956, -0.18577842, -0.4473932, 0.85997...       NaN  "
      ]
     },
     "execution_count": 5,
     "metadata": {},
     "output_type": "execute_result"
    }
   ],
   "source": [
    "df['embedding'] = df['유저'].map(lambda x: list(model.encode(x)))\n",
    "\n",
    "df.head()"
   ]
  },
  {
   "cell_type": "code",
   "execution_count": 7,
   "metadata": {},
   "outputs": [
    {
     "name": "stderr",
     "output_type": "stream",
     "text": [
      "C:\\Users\\user\\AppData\\Local\\Programs\\Python\\Python310\\lib\\site-packages\\pandas\\core\\internals\\blocks.py:2323: RuntimeWarning: invalid value encountered in cast\n",
      "  values = values.astype(str)\n"
     ]
    }
   ],
   "source": [
    "# 위에서 임베딩한 결과까지 csv 파일로 저장된다\n",
    "df.to_csv('Chatbot_embedding_data.csv', index = False)"
   ]
  },
  {
   "cell_type": "code",
   "execution_count": 8,
   "metadata": {},
   "outputs": [],
   "source": [
    "text = '부산 소마고 페이스북' # 입력할 텍스트\n",
    "embedding = model.encode(text) # 텍스트를 인코딩해서 embedding에 넣는다"
   ]
  },
  {
   "cell_type": "code",
   "execution_count": 9,
   "metadata": {},
   "outputs": [
    {
     "data": {
      "text/html": [
       "<div>\n",
       "<style scoped>\n",
       "    .dataframe tbody tr th:only-of-type {\n",
       "        vertical-align: middle;\n",
       "    }\n",
       "\n",
       "    .dataframe tbody tr th {\n",
       "        vertical-align: top;\n",
       "    }\n",
       "\n",
       "    .dataframe thead th {\n",
       "        text-align: right;\n",
       "    }\n",
       "</style>\n",
       "<table border=\"1\" class=\"dataframe\">\n",
       "  <thead>\n",
       "    <tr style=\"text-align: right;\">\n",
       "      <th></th>\n",
       "      <th>구분</th>\n",
       "      <th>유저</th>\n",
       "      <th>챗봇</th>\n",
       "      <th>embedding</th>\n",
       "      <th>distance</th>\n",
       "    </tr>\n",
       "  </thead>\n",
       "  <tbody>\n",
       "    <tr>\n",
       "      <th>0</th>\n",
       "      <td>입학홍보</td>\n",
       "      <td>부산소마고 페이스북</td>\n",
       "      <td>[ https://www.facebook.com/BusanSoftwareMeiste...</td>\n",
       "      <td>[-0.41640186, 0.079589315, -0.5161981, 0.37378...</td>\n",
       "      <td>0.904900</td>\n",
       "    </tr>\n",
       "    <tr>\n",
       "      <th>1</th>\n",
       "      <td>입학홍보</td>\n",
       "      <td>부산소프트웨어마이스터고 페북</td>\n",
       "      <td>[ https://www.facebook.com/BusanSoftwareMeiste...</td>\n",
       "      <td>[-0.07906039, -0.12451441, -0.408753, 0.720848...</td>\n",
       "      <td>0.527573</td>\n",
       "    </tr>\n",
       "    <tr>\n",
       "      <th>2</th>\n",
       "      <td>입학홍보</td>\n",
       "      <td>소마고 페북</td>\n",
       "      <td>[ https://www.facebook.com/BusanSoftwareMeiste...</td>\n",
       "      <td>[0.11361439, -0.050491035, -0.04860738, 0.0593...</td>\n",
       "      <td>0.830662</td>\n",
       "    </tr>\n",
       "    <tr>\n",
       "      <th>3</th>\n",
       "      <td>입학홍보</td>\n",
       "      <td>부산소마고 인스타그램</td>\n",
       "      <td>[ https://www.instagram.com/bssm.hs/ ] 입니다!</td>\n",
       "      <td>[-0.34022376, -0.339683, -0.53931576, 0.615103...</td>\n",
       "      <td>0.823811</td>\n",
       "    </tr>\n",
       "    <tr>\n",
       "      <th>4</th>\n",
       "      <td>입학홍보</td>\n",
       "      <td>부산소프트웨어마이스터고 인스타그램</td>\n",
       "      <td>[ https://www.instagram.com/bssm.hs/ ] 입니다!</td>\n",
       "      <td>[-0.19117956, -0.18577842, -0.4473932, 0.85997...</td>\n",
       "      <td>0.494270</td>\n",
       "    </tr>\n",
       "  </tbody>\n",
       "</table>\n",
       "</div>"
      ],
      "text/plain": [
       "     구분                  유저  \\\n",
       "0  입학홍보          부산소마고 페이스북   \n",
       "1  입학홍보     부산소프트웨어마이스터고 페북   \n",
       "2  입학홍보              소마고 페북   \n",
       "3  입학홍보         부산소마고 인스타그램   \n",
       "4  입학홍보  부산소프트웨어마이스터고 인스타그램   \n",
       "\n",
       "                                                  챗봇  \\\n",
       "0  [ https://www.facebook.com/BusanSoftwareMeiste...   \n",
       "1  [ https://www.facebook.com/BusanSoftwareMeiste...   \n",
       "2  [ https://www.facebook.com/BusanSoftwareMeiste...   \n",
       "3        [ https://www.instagram.com/bssm.hs/ ] 입니다!   \n",
       "4        [ https://www.instagram.com/bssm.hs/ ] 입니다!   \n",
       "\n",
       "                                           embedding  distance  \n",
       "0  [-0.41640186, 0.079589315, -0.5161981, 0.37378...  0.904900  \n",
       "1  [-0.07906039, -0.12451441, -0.408753, 0.720848...  0.527573  \n",
       "2  [0.11361439, -0.050491035, -0.04860738, 0.0593...  0.830662  \n",
       "3  [-0.34022376, -0.339683, -0.53931576, 0.615103...  0.823811  \n",
       "4  [-0.19117956, -0.18577842, -0.4473932, 0.85997...  0.494270  "
      ]
     },
     "execution_count": 9,
     "metadata": {},
     "output_type": "execute_result"
    }
   ],
   "source": [
    "df['distance'] = df['embedding'].map(lambda x: cosine_similarity([embedding], [x]).squeeze())\n",
    "# 사용자가 encode한 text와 가장 유사한 문장을 찾기 위해 embedding을 비교해 찾는다\n",
    "df.head()   "
   ]
  },
  {
   "cell_type": "code",
   "execution_count": null,
   "metadata": {},
   "outputs": [
    {
     "name": "stdout",
     "output_type": "stream",
     "text": [
      "입학홍보 관련 질문이군요!\n",
      "부산소마고 페이스북은, https://www.facebook.com/BusanSoftwareMeisterHighschool/ 입니다!\n",
      "(답변 유사도 :  0.9048997163772583 )\n"
     ]
    }
   ],
   "source": [
    "answer = df.loc[df['distance'].idxmax()] # distance의 최댓값 = 가장 유사함!\n",
    "\n",
    "print(answer['구분'], \"관련 질문이군요!\")\n",
    "print(answer['유저'] + \"은,\", answer['챗봇'], \"입니다!\")\n",
    "# print(answer['챗봇'])\n",
    "print(\"(답변 유사도 : \", answer['distance'], \")\")"
   ]
  }
 ],
 "metadata": {
  "interpreter": {
   "hash": "ee6ae478a8799028d215dcd2fc15a748352100c513dacc176d0b56a787bedbb2"
  },
  "kernelspec": {
   "display_name": "Python 3.11.1 64-bit",
   "language": "python",
   "name": "python3"
  },
  "language_info": {
   "codemirror_mode": {
    "name": "ipython",
    "version": 3
   },
   "file_extension": ".py",
   "mimetype": "text/x-python",
   "name": "python",
   "nbconvert_exporter": "python",
   "pygments_lexer": "ipython3",
   "version": "3.10.9"
  },
  "orig_nbformat": 4
 },
 "nbformat": 4,
 "nbformat_minor": 2
}
